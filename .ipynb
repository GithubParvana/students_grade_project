{
 "cells": [
  {
   "cell_type": "code",
   "execution_count": 1,
   "metadata": {},
   "outputs": [],
   "source": [
    "import matplotlib.pyplot as plt\n",
    "import pandas as pd\n",
    "import numpy as np\n",
    "\n",
    "from functools import reduce\n",
    "\n",
    "from tabulate import tabulate\n"
   ]
  },
  {
   "cell_type": "code",
   "execution_count": 2,
   "metadata": {},
   "outputs": [
    {
     "name": "stdout",
     "output_type": "stream",
     "text": [
      "File successfully converted to formatted_file.csv\n"
     ]
    }
   ],
   "source": [
    "input_file = \"datasets/StudentGradesAndPrograms.xlsx\"\n",
    "output_file = \"formatted_file.csv\"\n",
    "df = pd.read_excel(input_file)\n",
    "df.to_csv(output_file, index=False)\n",
    "print(f\"File successfully converted to {output_file}\")\n"
   ]
  },
  {
   "cell_type": "code",
   "execution_count": 3,
   "metadata": {},
   "outputs": [
    {
     "name": "stdout",
     "output_type": "stream",
     "text": [
      "['schoolyear', 'gradeLevel', 'classPeriod', 'classType', 'schoolName', 'gradePercentage', 'avid', 'sped', 'migrant', 'ell', 'student_ID']\n"
     ]
    },
    {
     "name": "stderr",
     "output_type": "stream",
     "text": [
      "C:\\Users\\K3500PC\\AppData\\Local\\Temp\\ipykernel_14916\\990879898.py:1: DtypeWarning: Columns (2) have mixed types. Specify dtype option on import or set low_memory=False.\n",
      "  dataset = pd.read_csv(output_file, header=1, names=[\"schoolyear\", \"gradeLevel\", \"classPeriod\", \"classType\", \"schoolName\", \"gradePercentage\", \"avid\", \"sped\", \"migrant\", \"ell\", \"student_ID\"])\n"
     ]
    }
   ],
   "source": [
    "dataset = pd.read_csv(output_file, header=1, names=[\"schoolyear\", \"gradeLevel\", \"classPeriod\", \"classType\", \"schoolName\", \"gradePercentage\", \"avid\", \"sped\", \"migrant\", \"ell\", \"student_ID\"])\n",
    "dataset_headers = df.columns.tolist()\n",
    "print(dataset_headers)"
   ]
  },
  {
   "cell_type": "code",
   "execution_count": 5,
   "metadata": {},
   "outputs": [],
   "source": [
    "table = tabulate(dataset, headers=dataset_headers, tablefmt=\"grid\")\n",
    "file = open('table_file.txt', 'w', encoding='utf-8')\n",
    "file.write(table)\n",
    "file.close()"
   ]
  },
  {
   "cell_type": "code",
   "execution_count": 6,
   "metadata": {},
   "outputs": [
    {
     "name": "stdout",
     "output_type": "stream",
     "text": [
      "200994\n"
     ]
    }
   ],
   "source": [
    "print(len(df))  # 200994"
   ]
  },
  {
   "cell_type": "code",
   "execution_count": 7,
   "metadata": {},
   "outputs": [
    {
     "name": "stdout",
     "output_type": "stream",
     "text": [
      "schoolyear          object\n",
      "gradeLevel          object\n",
      "classPeriod         object\n",
      "classType           object\n",
      "schoolName          object\n",
      "gradePercentage    float64\n",
      "avid                object\n",
      "sped                object\n",
      "migrant             object\n",
      "ell                 object\n",
      "student_ID          object\n",
      "dtype: object\n"
     ]
    }
   ],
   "source": [
    "data_types = df.dtypes\n",
    "print(data_types)"
   ]
  }
 ],
 "metadata": {
  "kernelspec": {
   "display_name": "venv",
   "language": "python",
   "name": "python3"
  },
  "language_info": {
   "codemirror_mode": {
    "name": "ipython",
    "version": 3
   },
   "file_extension": ".py",
   "mimetype": "text/x-python",
   "name": "python",
   "nbconvert_exporter": "python",
   "pygments_lexer": "ipython3",
   "version": "3.8.2"
  }
 },
 "nbformat": 4,
 "nbformat_minor": 2
}
